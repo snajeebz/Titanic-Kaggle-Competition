{
 "cells": [
  {
   "cell_type": "markdown",
   "metadata": {},
   "source": [
    "# Creator:\n",
    "### Najeeb Zaidi\n",
    "### Github: https://github.com/snajeebz\n",
    "### zaidi.nh@gmail.com\n",
    "### Contributors: \n",
    "1. https://github.com/snajeebz\n",
    "2. https://github.com/qinajeeb\n",
    "## Dataset Source: \n",
    "1. https://www.kaggle.com/competitions/titanic"
   ]
  },
  {
   "cell_type": "code",
   "execution_count": null,
   "metadata": {},
   "outputs": [],
   "source": [
    "import numpy as np\n",
    "import pandas as pd\n",
    "import os\n",
    "\n",
    "import tensorflow as tf\n",
    "#Disable warning\n",
    "import warnings\n",
    "warnings.filterwarnings(\"ignore\")\n",
    "\n",
    "print(f\"Found TF-DF {tfdf.__version__}\")"
   ]
  },
  {
   "cell_type": "code",
   "execution_count": null,
   "metadata": {},
   "outputs": [],
   "source": [
    "try:\n",
    "    train_df = pd.read_csv(\"Dataset/train.csv\")\n",
    "    serving_df = pd.read_csv(\"Dataset/test.csv\")\n",
    "except:\n",
    "    train_df = pd.read_csv(\"/kaggle/input/titanic/train.csv\")\n",
    "    serving_df = pd.read_csv(\"/kaggle/input/titanic/test.csv\")\n",
    "\n",
    "train_df.head(10)"
   ]
  },
  {
   "cell_type": "markdown",
   "metadata": {},
   "source": [
    "# Strategy:\n",
    "1. Data Preparation and Scikit Learn Algo implementation\n",
    "2. Tensorflow Models implementation\n",
    "3. Tensorflow Models and Hyper-Parameters Tuning\n",
    "\n",
    "## 1. Data Preparation and Scikit Learn Algo implementation\n",
    "\n",
    "### Steps:\n",
    "1. Dataset EDA\n",
    "2. Data Wrangling\n",
    "3. Test Train Dataset preparation for scikit-Learn\n",
    "4. Scikit Learn ML Model Plus Hyper Parameters Tuning\n",
    "5. Submission of the Best Results."
   ]
  }
 ],
 "metadata": {
  "language_info": {
   "name": "python"
  }
 },
 "nbformat": 4,
 "nbformat_minor": 2
}
